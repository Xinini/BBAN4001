{
 "cells": [
  {
   "cell_type": "markdown",
   "id": "44bacb06",
   "metadata": {},
   "source": [
    "# Test Notebook for the Task"
   ]
  },
  {
   "cell_type": "markdown",
   "id": "3416bb8d",
   "metadata": {},
   "source": [
    "Depedencies: \n"
   ]
  },
  {
   "cell_type": "code",
   "execution_count": 19,
   "id": "b6693333",
   "metadata": {},
   "outputs": [
    {
     "name": "stdout",
     "output_type": "stream",
     "text": [
      "   ID  Age  Experience  Income  ZIP Code  Family  CCAvg  Education  Mortgage  \\\n",
      "0   1   25           1      49     91107       4    1.6          1         0   \n",
      "1   2   45          19      34     90089       3    1.5          1         0   \n",
      "2   3   39          15      11     94720       1    1.0          1         0   \n",
      "3   4   35           9     100     94112       1    2.7          2         0   \n",
      "4   5   35           8      45     91330       4    1.0          2         0   \n",
      "\n",
      "   Personal Loan  Securities Account  CD Account  Online  CreditCard  \n",
      "0              0                   1           0       0           0  \n",
      "1              0                   1           0       0           0  \n",
      "2              0                   0           0       0           0  \n",
      "3              0                   0           0       0           0  \n",
      "4              0                   0           0       0           1  \n"
     ]
    }
   ],
   "source": [
    "import pandas as pd\n",
    "import numpy as np \n",
    "\n",
    "from sklearn import preprocessing\n",
    "from sklearn.model_selection import train_test_split\n",
    "\n",
    "from sklearn.metrics import accuracy_score\n",
    "from sklearn.metrics import f1_score\n",
    "\n",
    "from sklearn.neighbors import NearestNeighbors, KNeighborsClassifier\n",
    "\n",
    "import matplotlib.pylab as plt\n",
    "\n",
    "dataset = pd.read_csv(\"UniversalBank.csv\")\n",
    "\n",
    "print(dataset.head())"
   ]
  },
  {
   "cell_type": "code",
   "execution_count": 20,
   "id": "44aedff0",
   "metadata": {},
   "outputs": [
    {
     "name": "stdout",
     "output_type": "stream",
     "text": [
      "      Age  Experience  Income  Family  CCAvg  Education  Mortgage  \\\n",
      "4995   29           3      40       1    1.9          3         0   \n",
      "4996   30           4      15       4    0.4          1        85   \n",
      "4997   63          39      24       2    0.3          3         0   \n",
      "4998   65          40      49       3    0.5          2         0   \n",
      "4999   28           4      83       3    0.8          1         0   \n",
      "\n",
      "      Securities Account  CD Account  Online  CreditCard  Personal Loan  \n",
      "4995                   0           0       1           0              0  \n",
      "4996                   0           0       1           0              0  \n",
      "4997                   0           0       0           0              0  \n",
      "4998                   0           0       1           0              0  \n",
      "4999                   0           0       1           1              0  \n"
     ]
    }
   ],
   "source": [
    "#Preprocessing\n",
    "dataset = dataset.drop(columns=['ID', 'ZIP Code'])\n",
    "\n",
    "personal_loan = dataset.pop(\"Personal Loan\") #Move personal loan to end of the df\n",
    "dataset[\"Personal Loan\"] = personal_loan\n",
    "\n",
    "print(dataset.tail())\n"
   ]
  },
  {
   "cell_type": "code",
   "execution_count": 21,
   "id": "a278f087",
   "metadata": {},
   "outputs": [],
   "source": [
    "#Partioning Data\n",
    "\n",
    "x = dataset.iloc[:, 0:-2]\n",
    "y = dataset.iloc[:, -1]\n",
    "\n",
    "x_train, x_test, y_train, y_test = train_test_split(x, y, test_size =  0.2)\n",
    "\n",
    "#Scale\n",
    "scaler_x = preprocessing.StandardScaler()\n",
    "x_train = scaler_x.fit_transform(x_train)\n",
    "x_test = scaler_x.transform(x_test)\n",
    "\n"
   ]
  },
  {
   "cell_type": "code",
   "execution_count": 22,
   "id": "7dece400",
   "metadata": {},
   "outputs": [],
   "source": [
    "#Classifier\n",
    "classifier = KNeighborsClassifier(n_neighbors = 71, p=2, metric=\"euclidean\")\n",
    "classifier.fit(x_train, y_train)\n",
    "\n",
    "y_pred = classifier.predict(x_test)"
   ]
  },
  {
   "cell_type": "code",
   "execution_count": 23,
   "id": "38cdf322",
   "metadata": {},
   "outputs": [
    {
     "name": "stdout",
     "output_type": "stream",
     "text": [
      "0.5303030303030303\n",
      "0.938\n"
     ]
    }
   ],
   "source": [
    "#Evaluate model\n",
    "print(f1_score(y_test, y_pred))\n",
    "print(accuracy_score(y_test, y_pred))"
   ]
  },
  {
   "cell_type": "code",
   "execution_count": null,
   "id": "79aba466",
   "metadata": {},
   "outputs": [],
   "source": []
  }
 ],
 "metadata": {
  "kernelspec": {
   "display_name": "Python 3 (ipykernel)",
   "language": "python",
   "name": "python3"
  },
  "language_info": {
   "codemirror_mode": {
    "name": "ipython",
    "version": 3
   },
   "file_extension": ".py",
   "mimetype": "text/x-python",
   "name": "python",
   "nbconvert_exporter": "python",
   "pygments_lexer": "ipython3",
   "version": "3.11.4"
  }
 },
 "nbformat": 4,
 "nbformat_minor": 5
}
