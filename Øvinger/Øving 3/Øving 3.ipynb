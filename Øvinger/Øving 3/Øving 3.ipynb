{
 "cells": [
  {
   "cell_type": "markdown",
   "metadata": {},
   "source": [
    "# Øving 3"
   ]
  },
  {
   "cell_type": "markdown",
   "metadata": {},
   "source": [
    "## Oppgave 4.1"
   ]
  },
  {
   "cell_type": "markdown",
   "metadata": {},
   "source": [
    "#### a)\n",
    "Quantitative: Calroies, Protein, Fat, Sodium, Fiber, Carbo, Sugars, Potass, Vitamins\n",
    "\n",
    "Nomial: MFR, Type, Cereal Name\n",
    "\n",
    "Ordinal: Shelf\n",
    "\n",
    "You could argue that vitamins are also ordinal.\n",
    "\n",
    "\n"
   ]
  },
  {
   "cell_type": "code",
   "execution_count": 8,
   "metadata": {},
   "outputs": [
    {
     "name": "stdout",
     "output_type": "stream",
     "text": [
      "Index(['name', 'mfr', 'type', 'calories', 'protein', 'fat', 'sodium', 'fiber',\n",
      "       'carbo', 'sugars', 'potass', 'vitamins', 'shelf', 'weight', 'cups',\n",
      "       'rating'],\n",
      "      dtype='object')\n",
      "              median        mean        min         max         sd\n",
      "calories  110.000000  106.883117  50.000000  160.000000  19.484119\n",
      "protein     3.000000    2.545455   1.000000    6.000000   1.094790\n",
      "fat         1.000000    1.012987   0.000000    5.000000   1.006473\n",
      "sodium    180.000000  159.675325   0.000000  320.000000  83.832295\n",
      "fiber       2.000000    2.151948   0.000000   14.000000   2.383364\n",
      "carbo      14.500000   14.802632   5.000000   23.000000   3.907326\n",
      "sugars      7.000000    7.026316   0.000000   15.000000   4.378656\n",
      "potass     90.000000   98.666667  15.000000  330.000000  70.410636\n",
      "vitamins   25.000000   28.246753   0.000000  100.000000  22.342523\n",
      "shelf       2.000000    2.207792   1.000000    3.000000   0.832524\n",
      "weight      1.000000    1.029610   0.500000    1.500000   0.150477\n",
      "cups        0.750000    0.821039   0.250000    1.500000   0.232716\n",
      "rating     40.400208   42.665705  18.042851   93.704912  14.047289\n"
     ]
    },
    {
     "data": {
      "text/plain": [
       "'\\npd.DataFrame({ #Need to exclude nomial variables to work\\n    \"mean\": df.mean(),\\n    \"median\": df.median(),\\n    \"min\": df.min(),\\n    \"max\": df.max(),\\n    \"std\": df.std(),\\n})\\n'"
      ]
     },
     "execution_count": 8,
     "metadata": {},
     "output_type": "execute_result"
    }
   ],
   "source": [
    "#b)\n",
    "import pandas as pd\n",
    "import numpy as np\n",
    "from sklearn.decomposition import PCA\n",
    "from sklearn import preprocessing\n",
    "\n",
    "import matplotlib.pyplot as plt\n",
    "import seaborn as sns\n",
    "\n",
    "df = pd.read_csv(\"Cereals.csv\")\n",
    "df_quan = pd.DataFrame()\n",
    "\n",
    "print(df.columns)\n",
    "for i in df.columns:\n",
    "    if type(df[i][0]) != type(\"\"):\n",
    "        df_quan[df[i].name] = df[i]\n",
    "        \n",
    "#print(df_quan)\n",
    "\n",
    "print(pd.DataFrame({\n",
    "    \"median\" : df_quan.median(),\n",
    "    \"mean\" : df_quan.mean(),\n",
    "    \"min\" : df_quan.min(),\n",
    "    \"max\" : df_quan.max(),\n",
    "    \"sd\" : df_quan.std()\n",
    "    \n",
    "}))\n",
    "\n",
    "\"\"\"\n",
    "pd.DataFrame({ #Need to exclude nomial variables to work\n",
    "    \"mean\": df.mean(),\n",
    "    \"median\": df.median(),\n",
    "    \"min\": df.min(),\n",
    "    \"max\": df.max(),\n",
    "    \"std\": df.std(),\n",
    "})\n",
    "\"\"\""
   ]
  },
  {
   "cell_type": "code",
   "execution_count": 25,
   "metadata": {},
   "outputs": [
    {
     "data": {
      "image/png": "[encoded data removed]",
      "text/plain": [
       "<Figure size 640x480 with 6 Axes>"
      ]
     },
     "metadata": {},
     "output_type": "display_data"
    }
   ],
   "source": [
    "##for i in df.columns:\n",
    " #   if type(df[i][0]) != type(\"\"):\n",
    "  #      df.hist(by=i)\n",
    "\n",
    "#c)\n",
    "df.hist(by=\"fat\")\n",
    "plt.show()\n",
    "\n",
    "\n"
   ]
  }
 ],
 "metadata": {
  "kernelspec": {
   "display_name": "Python 3 (ipykernel)",
   "language": "python",
   "name": "python3"
  },
  "language_info": {
   "codemirror_mode": {
    "name": "ipython",
    "version": 3
   },
   "file_extension": ".py",
   "mimetype": "text/x-python",
   "name": "python",
   "nbconvert_exporter": "python",
   "pygments_lexer": "ipython3",
   "version": "3.11.4"
  }
 },
 "nbformat": 4,
 "nbformat_minor": 2
}
