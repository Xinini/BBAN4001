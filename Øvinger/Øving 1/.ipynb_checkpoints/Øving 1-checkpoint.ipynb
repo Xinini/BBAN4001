{
 "cells": [
  {
   "cell_type": "markdown",
   "id": "6e2fc847",
   "metadata": {},
   "source": [
    "# Øving 1"
   ]
  },
  {
   "cell_type": "code",
   "execution_count": null,
   "id": "774c8b5d",
   "metadata": {},
   "outputs": [],
   "source": []
  },
  {
   "cell_type": "markdown",
   "id": "ecbef0b8",
   "metadata": {},
   "source": [
    "### 2.1\n",
    "a) Supervised\n",
    "b) Supervised\n",
    "c) Supervised\n",
    "d) Unsupervised\n",
    "e) Supervised\n",
    "f) Unsupervised\n",
    "g) Unsupervised\n",
    "h) Supervised"
   ]
  },
  {
   "cell_type": "markdown",
   "id": "dee62e92",
   "metadata": {},
   "source": [
    "###"
   ]
  },
  {
   "cell_type": "markdown",
   "id": "46c18c7e",
   "metadata": {},
   "source": [
    "### 2.2\n",
    "The validation partion is used to assess the predictive performance of models and used to pick one. The test partition is used to describe the performance the chosen model with a new dataset. Without using another model for the test partition the perfomance will be overly optimisitic.\n"
   ]
  },
  {
   "cell_type": "markdown",
   "id": "cfd8eb5d",
   "metadata": {},
   "source": [
    "### 2.3\n",
    "The table seems to be sampled randomly and is therefore useful, but might lead to a high margin of error as the number of rows are low."
   ]
  },
  {
   "cell_type": "markdown",
   "id": "d3ba5e39",
   "metadata": {},
   "source": [
    "### 2.4\n",
    "Redusert mengde variabler. Basert på første inntrykk virker mengde, historie og durasjon som viktige variabler. Fjernet andre variabler. Eksplorert dataen visuelt og se om det finnes outliers. Videre hadde brukt en supervised linear regresjonsmodell.\n"
   ]
  },
  {
   "cell_type": "markdown",
   "id": "b54f40d8",
   "metadata": {},
   "source": [
    "### 2.5\n",
    "\n",
    "The model might be overfitted. This happens when the model uses too many variables and the dataset is too small. The model might describe the sample too well, but not describe other samples past the primary one. The model therefore loses its predictive features."
   ]
  },
  {
   "cell_type": "markdown",
   "id": "48fd69fa",
   "metadata": {},
   "source": [
    "### 2.6\n",
    "The \"Refund issued\" variable is can only be set to \"1\" if the prospect is a purchaser. No nonpurchaser will have that variable as anything but \"0\". The variable is exclusive to only purchasers."
   ]
  },
  {
   "cell_type": "markdown",
   "id": "ef8b7ddc",
   "metadata": {},
   "source": [
    "### 2.7\n",
    "I would assume that 923 records would be removed due to missing data with only 7.7% of the records being whole. 0.95^50\n",
    "\n"
   ]
  },
  {
   "cell_type": "markdown",
   "id": "4b983482",
   "metadata": {},
   "source": [
    "### 2.8\n"
   ]
  },
  {
   "cell_type": "code",
   "execution_count": 3,
   "id": "8e42368c",
   "metadata": {},
   "outputs": [
    {
     "name": "stdout",
     "output_type": "stream",
     "text": [
      "   age  income\n",
      "0   25   49000\n",
      "1   56  156000\n",
      "2   65   99000\n",
      "3   32  192000\n",
      "4   41   39000\n",
      "5   49   57000\n",
      "        age    income\n",
      "0 -1.313253 -0.790027\n",
      "1  0.756790  0.911977\n",
      "2  1.357770  0.005302\n",
      "3 -0.845824  1.484614\n",
      "4 -0.244844 -0.949093\n",
      "5  0.289361 -0.662774\n"
     ]
    }
   ],
   "source": [
    "import pandas as pd\n",
    "housing = {\"age\" : [25, 56, 65, 32, 41, 49],\n",
    "           \"income\": [49_000, 156_000, 99_000, 192_000, 39_000, 57_000] }\n",
    "\n",
    "housing_df = pd.DataFrame(data=housing)\n",
    "print(housing_df)\n",
    "\n",
    "norm_housing_df = (housing_df - housing_df.mean()) / housing_df.std()\n",
    "print(norm_housing_df)"
   ]
  },
  {
   "cell_type": "code",
   "execution_count": null,
   "id": "35256435",
   "metadata": {},
   "outputs": [],
   "source": []
  }
 ],
 "metadata": {
  "kernelspec": {
   "display_name": "Python 3 (ipykernel)",
   "language": "python",
   "name": "python3"
  },
  "language_info": {
   "codemirror_mode": {
    "name": "ipython",
    "version": 3
   },
   "file_extension": ".py",
   "mimetype": "text/x-python",
   "name": "python",
   "nbconvert_exporter": "python",
   "pygments_lexer": "ipython3",
   "version": "3.11.4"
  }
 },
 "nbformat": 4,
 "nbformat_minor": 5
}
