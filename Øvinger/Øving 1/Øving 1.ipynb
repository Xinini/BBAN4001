{
 "cells": [
  {
   "cell_type": "markdown",
   "id": "6e2fc847",
   "metadata": {},
   "source": [
    "# Øving 1"
   ]
  },
  {
   "cell_type": "code",
   "execution_count": null,
   "id": "774c8b5d",
   "metadata": {},
   "outputs": [],
   "source": []
  },
  {
   "cell_type": "markdown",
   "id": "ecbef0b8",
   "metadata": {},
   "source": [
    "### 2.1\n",
    "a) Supervised\n",
    "b) Supervised\n",
    "c) Supervised\n",
    "d) Unsupervised\n",
    "e) Supervised\n",
    "f) Unsupervised\n",
    "g) Unsupervised\n",
    "h) Supervised"
   ]
  },
  {
   "cell_type": "markdown",
   "id": "dee62e92",
   "metadata": {},
   "source": [
    "###"
   ]
  },
  {
   "cell_type": "markdown",
   "id": "46c18c7e",
   "metadata": {},
   "source": [
    "### 2.2\n",
    "The validation partion is used to assess the predictive performance of models and used to pick one. The test partition is used to describe the performance the chosen model with a new dataset. Without using another model for the test partition the perfomance will be overly optimisitic.\n"
   ]
  },
  {
   "cell_type": "markdown",
   "id": "cfd8eb5d",
   "metadata": {},
   "source": [
    "### 2.3\n",
    "The table seems to be sampled randomly and is therefore useful, but might lead to a high margin of error as the number of rows are low."
   ]
  },
  {
   "cell_type": "markdown",
   "id": "d3ba5e39",
   "metadata": {},
   "source": [
    "### 2.4\n",
    "Redusert mengde variabler. Basert på første inntrykk virker mengde, historie og durasjon som viktige variabler. Fjernet andre variabler. Eksplorert dataen visuelt og se om det finnes outliers. Videre hadde brukt en supervised linear regresjonsmodell.\n"
   ]
  },
  {
   "cell_type": "markdown",
   "id": "b54f40d8",
   "metadata": {},
   "source": [
    "### 2.5\n",
    "\n",
    "The model might be overfitted. This happens when the model uses too many variables and the dataset is too small. The model might describe the sample too well, but not describe other samples past the primary one. The model therefore loses its predictive features."
   ]
  },
  {
   "cell_type": "markdown",
   "id": "48fd69fa",
   "metadata": {},
   "source": [
    "### 2.6\n",
    "The \"Refund issued\" variable is can only be set to \"1\" if the prospect is a purchaser. No nonpurchaser will have that variable as anything but \"0\". The variable is exclusive to only purchasers."
   ]
  },
  {
   "cell_type": "markdown",
   "id": "ef8b7ddc",
   "metadata": {},
   "source": [
    "### 2.7\n",
    "I would assume that 923 records would be removed due to missing data with only 7.7% of the records being whole. 0.95^50\n",
    "\n"
   ]
  },
  {
   "cell_type": "markdown",
   "id": "4b983482",
   "metadata": {},
   "source": [
    "### 2.8\n"
   ]
  },
  {
   "cell_type": "code",
   "execution_count": 9,
   "id": "8e42368c",
   "metadata": {},
   "outputs": [
    {
     "name": "stdout",
     "output_type": "stream",
     "text": [
      "   age  income\n",
      "0   25   49000\n",
      "1   56  156000\n",
      "2   65   99000\n",
      "3   32  192000\n",
      "4   41   39000\n",
      "5   49   57000\n",
      "        age    income\n",
      "0 -1.313253 -0.790027\n",
      "1  0.756790  0.911977\n",
      "2  1.357770  0.005302\n",
      "3 -0.845824  1.484614\n",
      "4 -0.244844 -0.949093\n",
      "5  0.289361 -0.662774\n"
     ]
    }
   ],
   "source": [
    "import pandas as pd\n",
    "from sklearn.model_selection import train_test_split\n",
    "housing = {\"age\" : [25, 56, 65, 32, 41, 49],\n",
    "           \"income\": [49_000, 156_000, 99_000, 192_000, 39_000, 57_000] }\n",
    "\n",
    "housing_df = pd.DataFrame(data=housing)\n",
    "print(housing_df)\n",
    "\n",
    "norm_housing_df = (housing_df - housing_df.mean()) / housing_df.std()\n",
    "\n",
    "print(norm_housing_df)"
   ]
  },
  {
   "cell_type": "markdown",
   "id": "e3df5a6b",
   "metadata": {},
   "source": [
    "### 2.9"
   ]
  },
  {
   "cell_type": "markdown",
   "id": "13161496",
   "metadata": {},
   "source": [
    "The Euclidean distance can be altered when normailizing due to each datapoint going through the same arithmetic process (using the same mean and std)."
   ]
  },
  {
   "cell_type": "markdown",
   "id": "2997302b",
   "metadata": {},
   "source": [
    "### 2.10\n",
    "\n",
    "Model B performance better with the validation partition and will be therefore be used for deployment. Model A might be only be good at predicting for the training partition but for other datasets."
   ]
  },
  {
   "cell_type": "markdown",
   "id": "eaa3be73",
   "metadata": {},
   "source": [
    "### 2.11\n",
    "a)"
   ]
  },
  {
   "cell_type": "code",
   "execution_count": 7,
   "id": "0b33312b",
   "metadata": {},
   "outputs": [
    {
     "data": {
      "text/html": [
       "<div>\n",
       "<style scoped>\n",
       "    .dataframe tbody tr th:only-of-type {\n",
       "        vertical-align: middle;\n",
       "    }\n",
       "\n",
       "    .dataframe tbody tr th {\n",
       "        vertical-align: top;\n",
       "    }\n",
       "\n",
       "    .dataframe thead th {\n",
       "        text-align: right;\n",
       "    }\n",
       "</style>\n",
       "<table border=\"1\" class=\"dataframe\">\n",
       "  <thead>\n",
       "    <tr style=\"text-align: right;\">\n",
       "      <th></th>\n",
       "      <th>Id</th>\n",
       "      <th>Model</th>\n",
       "      <th>Price</th>\n",
       "      <th>Age_08_04</th>\n",
       "      <th>Mfg_Month</th>\n",
       "      <th>Mfg_Year</th>\n",
       "      <th>KM</th>\n",
       "      <th>HP</th>\n",
       "      <th>Met_Color</th>\n",
       "      <th>Automatic</th>\n",
       "      <th>...</th>\n",
       "      <th>Fuel_Type*Petrol</th>\n",
       "      <th>Color*Black</th>\n",
       "      <th>Color*Blue</th>\n",
       "      <th>Color*Green</th>\n",
       "      <th>Color*Grey</th>\n",
       "      <th>Color*Red</th>\n",
       "      <th>Color*Silver</th>\n",
       "      <th>Color*Violet</th>\n",
       "      <th>Color*White</th>\n",
       "      <th>Color*Yellow</th>\n",
       "    </tr>\n",
       "  </thead>\n",
       "  <tbody>\n",
       "    <tr>\n",
       "      <th>0</th>\n",
       "      <td>1</td>\n",
       "      <td>TOYOTA Corolla 2.0 D4D HATCHB TERRA 2/3-Doors</td>\n",
       "      <td>13500</td>\n",
       "      <td>23</td>\n",
       "      <td>10</td>\n",
       "      <td>2002</td>\n",
       "      <td>46986</td>\n",
       "      <td>90</td>\n",
       "      <td>1</td>\n",
       "      <td>0</td>\n",
       "      <td>...</td>\n",
       "      <td>0</td>\n",
       "      <td>0</td>\n",
       "      <td>1</td>\n",
       "      <td>0</td>\n",
       "      <td>0</td>\n",
       "      <td>0</td>\n",
       "      <td>0</td>\n",
       "      <td>0</td>\n",
       "      <td>0</td>\n",
       "      <td>0</td>\n",
       "    </tr>\n",
       "    <tr>\n",
       "      <th>1</th>\n",
       "      <td>2</td>\n",
       "      <td>TOYOTA Corolla 2.0 D4D HATCHB TERRA 2/3-Doors</td>\n",
       "      <td>13750</td>\n",
       "      <td>23</td>\n",
       "      <td>10</td>\n",
       "      <td>2002</td>\n",
       "      <td>72937</td>\n",
       "      <td>90</td>\n",
       "      <td>1</td>\n",
       "      <td>0</td>\n",
       "      <td>...</td>\n",
       "      <td>0</td>\n",
       "      <td>0</td>\n",
       "      <td>0</td>\n",
       "      <td>0</td>\n",
       "      <td>0</td>\n",
       "      <td>0</td>\n",
       "      <td>1</td>\n",
       "      <td>0</td>\n",
       "      <td>0</td>\n",
       "      <td>0</td>\n",
       "    </tr>\n",
       "    <tr>\n",
       "      <th>2</th>\n",
       "      <td>3</td>\n",
       "      <td>TOYOTA Corolla 2.0 D4D HATCHB TERRA 2/3-Doors</td>\n",
       "      <td>13950</td>\n",
       "      <td>24</td>\n",
       "      <td>9</td>\n",
       "      <td>2002</td>\n",
       "      <td>41711</td>\n",
       "      <td>90</td>\n",
       "      <td>1</td>\n",
       "      <td>0</td>\n",
       "      <td>...</td>\n",
       "      <td>0</td>\n",
       "      <td>0</td>\n",
       "      <td>1</td>\n",
       "      <td>0</td>\n",
       "      <td>0</td>\n",
       "      <td>0</td>\n",
       "      <td>0</td>\n",
       "      <td>0</td>\n",
       "      <td>0</td>\n",
       "      <td>0</td>\n",
       "    </tr>\n",
       "    <tr>\n",
       "      <th>3</th>\n",
       "      <td>4</td>\n",
       "      <td>TOYOTA Corolla 2.0 D4D HATCHB TERRA 2/3-Doors</td>\n",
       "      <td>14950</td>\n",
       "      <td>26</td>\n",
       "      <td>7</td>\n",
       "      <td>2002</td>\n",
       "      <td>48000</td>\n",
       "      <td>90</td>\n",
       "      <td>0</td>\n",
       "      <td>0</td>\n",
       "      <td>...</td>\n",
       "      <td>0</td>\n",
       "      <td>1</td>\n",
       "      <td>0</td>\n",
       "      <td>0</td>\n",
       "      <td>0</td>\n",
       "      <td>0</td>\n",
       "      <td>0</td>\n",
       "      <td>0</td>\n",
       "      <td>0</td>\n",
       "      <td>0</td>\n",
       "    </tr>\n",
       "    <tr>\n",
       "      <th>4</th>\n",
       "      <td>5</td>\n",
       "      <td>TOYOTA Corolla 2.0 D4D HATCHB SOL 2/3-Doors</td>\n",
       "      <td>13750</td>\n",
       "      <td>30</td>\n",
       "      <td>3</td>\n",
       "      <td>2002</td>\n",
       "      <td>38500</td>\n",
       "      <td>90</td>\n",
       "      <td>0</td>\n",
       "      <td>0</td>\n",
       "      <td>...</td>\n",
       "      <td>0</td>\n",
       "      <td>1</td>\n",
       "      <td>0</td>\n",
       "      <td>0</td>\n",
       "      <td>0</td>\n",
       "      <td>0</td>\n",
       "      <td>0</td>\n",
       "      <td>0</td>\n",
       "      <td>0</td>\n",
       "      <td>0</td>\n",
       "    </tr>\n",
       "  </tbody>\n",
       "</table>\n",
       "<p>5 rows × 48 columns</p>\n",
       "</div>"
      ],
      "text/plain": [
       "   Id                                          Model  Price  Age_08_04  \\\n",
       "0   1  TOYOTA Corolla 2.0 D4D HATCHB TERRA 2/3-Doors  13500         23   \n",
       "1   2  TOYOTA Corolla 2.0 D4D HATCHB TERRA 2/3-Doors  13750         23   \n",
       "2   3  TOYOTA Corolla 2.0 D4D HATCHB TERRA 2/3-Doors  13950         24   \n",
       "3   4  TOYOTA Corolla 2.0 D4D HATCHB TERRA 2/3-Doors  14950         26   \n",
       "4   5    TOYOTA Corolla 2.0 D4D HATCHB SOL 2/3-Doors  13750         30   \n",
       "\n",
       "   Mfg_Month  Mfg_Year     KM  HP  Met_Color  Automatic  ...  \\\n",
       "0         10      2002  46986  90          1          0  ...   \n",
       "1         10      2002  72937  90          1          0  ...   \n",
       "2          9      2002  41711  90          1          0  ...   \n",
       "3          7      2002  48000  90          0          0  ...   \n",
       "4          3      2002  38500  90          0          0  ...   \n",
       "\n",
       "   Fuel_Type*Petrol  Color*Black  Color*Blue  Color*Green  Color*Grey  \\\n",
       "0                 0            0           1            0           0   \n",
       "1                 0            0           0            0           0   \n",
       "2                 0            0           1            0           0   \n",
       "3                 0            1           0            0           0   \n",
       "4                 0            1           0            0           0   \n",
       "\n",
       "   Color*Red  Color*Silver  Color*Violet  Color*White  Color*Yellow  \n",
       "0          0             0             0            0             0  \n",
       "1          0             1             0            0             0  \n",
       "2          0             0             0            0             0  \n",
       "3          0             0             0            0             0  \n",
       "4          0             0             0            0             0  \n",
       "\n",
       "[5 rows x 48 columns]"
      ]
     },
     "execution_count": 7,
     "metadata": {},
     "output_type": "execute_result"
    }
   ],
   "source": [
    "toyota = pd.read_csv(\"ToyotaCorolla.csv\")\n",
    "toyota.head()\n",
    "#I would make dummy variables for each category and drop the first variable.\n",
    "toyota = pd.get_dummies(toyota, columns = [\"Fuel_Type\", \"Color\"],drop_first = True, prefix_sep = \"*\")\n",
    "toyota.head()"
   ]
  },
  {
   "cell_type": "markdown",
   "id": "271c7f52",
   "metadata": {},
   "source": [
    "b)Training partition er oftest den største delen og blir brukt for å trene modelen, validering partitionen blir brukt\n",
    "til å velge hvilken model og test partition blir brukt til å vurderer modellen sin ytelse\"\n"
   ]
  },
  {
   "cell_type": "code",
   "execution_count": 12,
   "id": "21f7a809",
   "metadata": {},
   "outputs": [
    {
     "name": "stdout",
     "output_type": "stream",
     "text": [
      "(718, 48) (430, 48) (288, 48)\n"
     ]
    }
   ],
   "source": [
    "toyota_training, toyota_valid = train_test_split(toyota, test_size=0.5, random_state=1)\n",
    "toyota_valid, toyota_test = train_test_split(toyota_valid, test_size=0.4, random_state=1)\n",
    "print(toyota_training.shape, toyota_valid.shape, toyota_test.shape)"
   ]
  },
  {
   "cell_type": "code",
   "execution_count": null,
   "id": "e9604a57",
   "metadata": {},
   "outputs": [],
   "source": []
  }
 ],
 "metadata": {
  "kernelspec": {
   "display_name": "Python 3 (ipykernel)",
   "language": "python",
   "name": "python3"
  },
  "language_info": {
   "codemirror_mode": {
    "name": "ipython",
    "version": 3
   },
   "file_extension": ".py",
   "mimetype": "text/x-python",
   "name": "python",
   "nbconvert_exporter": "python",
   "pygments_lexer": "ipython3",
   "version": "3.11.4"
  }
 },
 "nbformat": 4,
 "nbformat_minor": 5
}
