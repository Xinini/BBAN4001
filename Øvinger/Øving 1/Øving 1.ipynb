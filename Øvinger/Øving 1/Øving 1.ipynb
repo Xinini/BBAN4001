{
 "cells": [
  {
   "attachments": {},
   "cell_type": "markdown",
   "id": "6e2fc847",
   "metadata": {},
   "source": [
    "# Øving 1"
   ]
  },
  {
   "attachments": {},
   "cell_type": "markdown",
   "id": "ecbef0b8",
   "metadata": {},
   "source": [
    "### 2.1\n",
    "a) Supervised\n",
    "b) Supervised\n",
    "c) Supervised\n",
    "d) Unsupervised\n",
    "e) Supervised\n",
    "f) Unsupervised\n",
    "g) Unsupervised\n",
    "h) Supervised"
   ]
  },
  {
   "attachments": {},
   "cell_type": "markdown",
   "id": "dee62e92",
   "metadata": {},
   "source": [
    "###"
   ]
  }
 ],
 "metadata": {
  "kernelspec": {
   "display_name": "Python 3 (ipykernel)",
   "language": "python",
   "name": "python3"
  },
  "language_info": {
   "codemirror_mode": {
    "name": "ipython",
    "version": 3
   },
   "file_extension": ".py",
   "mimetype": "text/x-python",
   "name": "python",
   "nbconvert_exporter": "python",
   "pygments_lexer": "ipython3",
   "version": "3.11.4"
  }
 },
 "nbformat": 4,
 "nbformat_minor": 5
}
